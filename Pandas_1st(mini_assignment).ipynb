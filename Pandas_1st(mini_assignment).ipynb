{
  "cells": [
    {
      "cell_type": "markdown",
      "id": "aed467f0",
      "metadata": {
        "id": "aed467f0"
      },
      "source": [
        "# Pandas First Exercises\n",
        "Dear Students this notebook contains simple exercises for beginners to practice basic Pandas operations such as creating Series, DataFrames, saving files, and importing data."
      ]
    },
    {
      "cell_type": "markdown",
      "id": "99bfd544",
      "metadata": {
        "id": "99bfd544"
      },
      "source": [
        "### Exercise 1: Creating Pandas Series"
      ]
    },
    {
      "cell_type": "markdown",
      "id": "7b27040c",
      "metadata": {
        "id": "7b27040c"
      },
      "source": [
        "1. Create a Pandas Series containing the marks of 5 students in Maths.\n",
        "2. Create a Pandas Series that stores 5 city names.\n",
        "3. Create a Pandas Series with 5 different floating-point numbers representing temperature readings."
      ]
    },
    {
      "cell_type": "code",
      "source": [
        "#answer here\n",
        "import pandas as pd\n",
        "\n",
        "maths = pd.Series([90, 85, 78, 92, 88],\n",
        "                  index=['Alice', 'Bob', 'Charlie', 'David', 'Eve']\n",
        "                  )\n",
        "print(\"marks of student in math\")\n",
        "print(maths)\n",
        "print()\n",
        "cities = pd.Series(['New York', 'London', 'Paris', 'Tokyo', 'Sydney'])\n",
        "print(cities)\n",
        "temperatures = pd.Series([25.5, 28.2, 22.8, 30.0, 27.5])\n",
        "print(temperatures)\n"
      ],
      "metadata": {
        "id": "OK7V5fd5kmrn",
        "colab": {
          "base_uri": "https://localhost:8080/"
        },
        "outputId": "5970ac40-948b-4fd7-9201-9e5f6aa2606c"
      },
      "id": "OK7V5fd5kmrn",
      "execution_count": 2,
      "outputs": [
        {
          "output_type": "stream",
          "name": "stdout",
          "text": [
            "marks of student in math\n",
            "Alice      90\n",
            "Bob        85\n",
            "Charlie    78\n",
            "David      92\n",
            "Eve        88\n",
            "dtype: int64\n",
            "\n",
            "0    New York\n",
            "1      London\n",
            "2       Paris\n",
            "3       Tokyo\n",
            "4      Sydney\n",
            "dtype: object\n",
            "0    25.5\n",
            "1    28.2\n",
            "2    22.8\n",
            "3    30.0\n",
            "4    27.5\n",
            "dtype: float64\n"
          ]
        }
      ]
    },
    {
      "cell_type": "markdown",
      "id": "40f70f70",
      "metadata": {
        "id": "40f70f70"
      },
      "source": [
        "### Exercise 2: Creating DataFrames from Series"
      ]
    },
    {
      "cell_type": "markdown",
      "id": "dcbe763b",
      "metadata": {
        "id": "dcbe763b"
      },
      "source": [
        "1. Create two Series: one containing student names and another containing their ages. Combine them into a single DataFrame.\n",
        "2. Create three Series: 'Product Name', 'Price', and 'Quantity'. Combine them into one DataFrame and display it."
      ]
    },
    {
      "cell_type": "code",
      "source": [
        "#answer here\n",
        "student_name = pd.Series(['Alice', 'Bob', 'Charlie', 'David', 'Eve'])\n",
        "ages = pd.Series([20, 22, 19, 21, 23])\n",
        "student_data = pd.DataFrame({'Name': student_name, 'Age': ages})\n",
        "print(student_data)"
      ],
      "metadata": {
        "id": "_E_7kzvVkp7e",
        "colab": {
          "base_uri": "https://localhost:8080/"
        },
        "outputId": "83ad8dfb-7b42-4770-ab48-0ace4080b970"
      },
      "id": "_E_7kzvVkp7e",
      "execution_count": 3,
      "outputs": [
        {
          "output_type": "stream",
          "name": "stdout",
          "text": [
            "      Name  Age\n",
            "0    Alice   20\n",
            "1      Bob   22\n",
            "2  Charlie   19\n",
            "3    David   21\n",
            "4      Eve   23\n"
          ]
        }
      ]
    },
    {
      "cell_type": "code",
      "source": [
        "product_name = pd.Series(['Laptop', 'Smartphone', 'Tablet', 'Headphones', 'Printer'],\n",
        "                         index = ['product1','product2','product3','product4','product5'])\n",
        "prices = pd.Series([100000,100000,50000,10000,15000],\n",
        "                   index = ['product1','product2','product3','product4','product5'])\n",
        "quantity = pd.Series([10,5,3,2,4],\n",
        "                     index = ['product1','product2','product3','product4','product5'])\n",
        "product_data = pd.DataFrame({'Product Name': product_name, 'Price': prices, 'Quantity': quantity})\n",
        "print(product_data)"
      ],
      "metadata": {
        "colab": {
          "base_uri": "https://localhost:8080/"
        },
        "id": "saIk-2Mu7SCs",
        "outputId": "018251af-2614-4cb8-9a47-cbbca80e8039"
      },
      "id": "saIk-2Mu7SCs",
      "execution_count": 6,
      "outputs": [
        {
          "output_type": "stream",
          "name": "stdout",
          "text": [
            "         Product Name   Price  Quantity\n",
            "product1       Laptop  100000        10\n",
            "product2   Smartphone  100000         5\n",
            "product3       Tablet   50000         3\n",
            "product4   Headphones   10000         2\n",
            "product5      Printer   15000         4\n"
          ]
        }
      ]
    },
    {
      "cell_type": "markdown",
      "id": "13c74f3d",
      "metadata": {
        "id": "13c74f3d"
      },
      "source": [
        "### Exercise 3: Creating DataFrames from Dictionaries"
      ]
    },
    {
      "cell_type": "markdown",
      "id": "14cd2ed5",
      "metadata": {
        "id": "14cd2ed5"
      },
      "source": [
        "1. Create a dictionary with keys as 'Name', 'Age', and 'City', each containing a list of 3 values. Convert it into a DataFrame.\n",
        "2. Create a dictionary with keys 'Product', 'Category', and 'Price'. Convert it into a DataFrame and print it."
      ]
    },
    {
      "cell_type": "code",
      "source": [
        "#answer here\n",
        "data = {\n",
        "    'Name': ['Nikhil','Hanish','Kunal'],\n",
        "    'Age' : ['21','20','20'],\n",
        "    'City': ['India','England','Uk']\n",
        "    }\n",
        "students_df = pd.DataFrame(data, index = ['1','2','3'])\n",
        "print(students_df)\n"
      ],
      "metadata": {
        "id": "JLxq4HlGkqig",
        "colab": {
          "base_uri": "https://localhost:8080/"
        },
        "outputId": "a26f54c0-e3ea-4a98-a310-5753654fe2f9"
      },
      "id": "JLxq4HlGkqig",
      "execution_count": 16,
      "outputs": [
        {
          "output_type": "stream",
          "name": "stdout",
          "text": [
            "     Name Age     City\n",
            "1  Nikhil  21    India\n",
            "2  Hanish  20  England\n",
            "3   Kunal  20       Uk\n"
          ]
        }
      ]
    },
    {
      "cell_type": "code",
      "source": [
        "data = {\n",
        "    'Product': ['Laptop', 'Smartphone', 'Tablet'],\n",
        "    'Category': ['Electronics', 'Electronics', 'Electronics'],\n",
        "    'Price': [100000, 100000, 50000]\n",
        "}\n",
        "product_df = pd.DataFrame(data, index=['product1','product2','product3'])\n",
        "print(product_df)"
      ],
      "metadata": {
        "colab": {
          "base_uri": "https://localhost:8080/"
        },
        "id": "LOrnUavyIgKV",
        "outputId": "97162ec5-7ecc-41e6-a572-b2712760877d"
      },
      "id": "LOrnUavyIgKV",
      "execution_count": 17,
      "outputs": [
        {
          "output_type": "stream",
          "name": "stdout",
          "text": [
            "             Product     Category   Price\n",
            "product1      Laptop  Electronics  100000\n",
            "product2  Smartphone  Electronics  100000\n",
            "product3      Tablet  Electronics   50000\n"
          ]
        }
      ]
    },
    {
      "cell_type": "markdown",
      "id": "76437b78",
      "metadata": {
        "id": "76437b78"
      },
      "source": [
        "### Exercise 4: Saving DataFrames to CSV and Excel"
      ]
    },
    {
      "cell_type": "markdown",
      "id": "a7b957b3",
      "metadata": {
        "id": "a7b957b3"
      },
      "source": [
        "1. Save any one of your created DataFrames into a CSV file named 'students.csv'.\n",
        "2. Save another DataFrame into an Excel file named 'products.xlsx'."
      ]
    },
    {
      "cell_type": "code",
      "source": [
        "#answer here\n",
        "students_df.to_csv('student.csv', index=False)\n",
        "product_df.to_excel('product.xlsx', index = False)"
      ],
      "metadata": {
        "id": "1ewTIFMykrER"
      },
      "id": "1ewTIFMykrER",
      "execution_count": 18,
      "outputs": []
    },
    {
      "cell_type": "markdown",
      "id": "003c619d",
      "metadata": {
        "id": "003c619d"
      },
      "source": [
        "### Exercise 5: Reading Data from Files"
      ]
    },
    {
      "cell_type": "markdown",
      "id": "acbd6ed2",
      "metadata": {
        "id": "acbd6ed2"
      },
      "source": [
        "1. Use Pandas to read the CSV file 'students.csv' that you created earlier.\n",
        "2. Use Pandas to read the Excel file 'products.xlsx' that you created earlier."
      ]
    },
    {
      "cell_type": "code",
      "source": [
        "#answer here\n",
        "students_df = pd.read_csv('student.csv')\n",
        "print(students_df)"
      ],
      "metadata": {
        "id": "4abENRlTkrsx",
        "colab": {
          "base_uri": "https://localhost:8080/"
        },
        "outputId": "f67a5db0-539b-47e4-8ef5-e1f8fc509577"
      },
      "id": "4abENRlTkrsx",
      "execution_count": 21,
      "outputs": [
        {
          "output_type": "stream",
          "name": "stdout",
          "text": [
            "     Name  Age     City\n",
            "0  Nikhil   21    India\n",
            "1  Hanish   20  England\n",
            "2   Kunal   20       Uk\n"
          ]
        }
      ]
    },
    {
      "cell_type": "code",
      "source": [
        "product_df = pd.read_excel('product.xlsx')\n",
        "print(product_df)"
      ],
      "metadata": {
        "colab": {
          "base_uri": "https://localhost:8080/"
        },
        "id": "tyZrXfRyPlLZ",
        "outputId": "0038f0c7-714c-4bac-d693-def24fb2baf0"
      },
      "id": "tyZrXfRyPlLZ",
      "execution_count": 22,
      "outputs": [
        {
          "output_type": "stream",
          "name": "stdout",
          "text": [
            "      Product     Category   Price\n",
            "0      Laptop  Electronics  100000\n",
            "1  Smartphone  Electronics  100000\n",
            "2      Tablet  Electronics   50000\n"
          ]
        }
      ]
    }
  ],
  "metadata": {
    "colab": {
      "provenance": []
    },
    "language_info": {
      "name": "python"
    },
    "kernelspec": {
      "name": "python3",
      "display_name": "Python 3"
    }
  },
  "nbformat": 4,
  "nbformat_minor": 5
}