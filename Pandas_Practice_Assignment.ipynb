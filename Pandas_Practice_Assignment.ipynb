{
  "cells": [
    {
      "cell_type": "markdown",
      "metadata": {
        "id": "view-in-github",
        "colab_type": "text"
      },
      "source": [
        "<a href=\"https://colab.research.google.com/github/Hanish-DotCom/pandas/blob/main/Pandas_Practice_Assignment.ipynb\" target=\"_parent\"><img src=\"https://colab.research.google.com/assets/colab-badge.svg\" alt=\"Open In Colab\"/></a>"
      ]
    },
    {
      "cell_type": "markdown",
      "id": "9b4db2fd",
      "metadata": {
        "id": "9b4db2fd"
      },
      "source": [
        "# Pandas Practice Notebook\n",
        "Dear Students this notebook will help you practice Important Pandas operations step-by-step.\n"
      ]
    },
    {
      "cell_type": "markdown",
      "id": "48c112e5",
      "metadata": {
        "id": "48c112e5"
      },
      "source": [
        "## 1. File Import using Pandas\n",
        "Below are some examples to import files in Pandas and practice questions."
      ]
    },
    {
      "cell_type": "code",
      "execution_count": null,
      "id": "866ca894",
      "metadata": {
        "id": "866ca894"
      },
      "outputs": [],
      "source": [
        "# Example: Importing CSV, Excel, and JSON files\n",
        "import pandas as pd\n",
        "\n",
        "# Read CSV\n",
        "df_csv = pd.read_csv('data.csv')\n",
        "\n",
        "# Read Excel\n",
        "df_excel = pd.read_excel('data.xlsx')\n",
        "\n",
        "# Read JSON\n",
        "df_json = pd.read_json('data.json')"
      ]
    },
    {
      "cell_type": "markdown",
      "id": "057ad770",
      "metadata": {
        "id": "057ad770"
      },
      "source": [
        "### Practice Questions\n",
        "1. Import the file `sales.csv` and display the first 5 rows.\n",
        "2. Import the Excel file `students.xlsx` and check its columns.\n",
        "3. Import any JSON file and find its shape."
      ]
    },
    {
      "cell_type": "code",
      "execution_count": 9,
      "id": "9ddeae3b",
      "metadata": {
        "id": "9ddeae3b",
        "colab": {
          "base_uri": "https://localhost:8080/"
        },
        "outputId": "80ccbc72-f758-4d6d-b299-99e94733801f"
      },
      "outputs": [
        {
          "output_type": "stream",
          "name": "stdout",
          "text": [
            "   product  price  sales\n",
            "0   laptop   1000    100\n",
            "1  desktop   2000    200\n",
            "2   mobile    500    300\n"
          ]
        }
      ],
      "source": [
        "# 1\n",
        "\n",
        "import pandas as pd\n",
        "\n",
        "data = {\n",
        "    'product': ['laptop', 'desktop', 'mobile'],\n",
        "    'price': [1000, 2000, 500],\n",
        "    'sales': [100, 200, 300]\n",
        "}\n",
        "sales_df = pd.DataFrame(data)\n",
        "sales_df.to_csv('sales.csv', index=False)\n",
        "\n",
        "sales_df = pd.read_csv('sales.csv')\n",
        "print(sales_df.head())\n"
      ]
    },
    {
      "cell_type": "code",
      "source": [
        "# 2\n",
        "\n",
        "data_students = {\n",
        "    'Name': ['Alice', 'Bob', 'Charlie'],\n",
        "    'Age': [20, 21, 22],\n",
        "    'Major': ['Computer Science', 'Physics', 'Chemistry']\n",
        "}\n",
        "students_df = pd.DataFrame(data_students)\n",
        "students_df.to_excel('students.xlsx', index=False)\n",
        "\n",
        "students_df = pd.read_excel('students.xlsx')\n",
        "print(students_df.columns)"
      ],
      "metadata": {
        "colab": {
          "base_uri": "https://localhost:8080/"
        },
        "id": "h4JsDiEwY84W",
        "outputId": "26c0763a-ca01-4f82-adb6-7c5341b74650"
      },
      "id": "h4JsDiEwY84W",
      "execution_count": 7,
      "outputs": [
        {
          "output_type": "stream",
          "name": "stdout",
          "text": [
            "Index(['Name', 'Age', 'Major'], dtype='object')\n"
          ]
        }
      ]
    },
    {
      "cell_type": "code",
      "source": [
        "# 3\n",
        "\n",
        "data_json = {\n",
        "    'name': ['Alice', 'Bob'],\n",
        "    'age': [20, 21]\n",
        "}\n",
        "json_df = pd.DataFrame(data_json)\n",
        "json_df.to_json('data.json')\n",
        "\n",
        "json_df = pd.read_json('data.json')\n",
        "print(json_df.shape)"
      ],
      "metadata": {
        "colab": {
          "base_uri": "https://localhost:8080/"
        },
        "id": "lu8w6XvjZDxL",
        "outputId": "d6f05277-093c-4da5-8da7-456bf74d414d"
      },
      "id": "lu8w6XvjZDxL",
      "execution_count": 8,
      "outputs": [
        {
          "output_type": "stream",
          "name": "stdout",
          "text": [
            "(2, 2)\n"
          ]
        }
      ]
    },
    {
      "cell_type": "markdown",
      "id": "3b7b9584",
      "metadata": {
        "id": "3b7b9584"
      },
      "source": [
        "## 2. File Export using Pandas\n",
        "You can export data to different formats like CSV, Excel, and JSON."
      ]
    },
    {
      "cell_type": "code",
      "execution_count": 11,
      "id": "d16eda12",
      "metadata": {
        "id": "d16eda12"
      },
      "outputs": [],
      "source": [
        "# Example: Exporting DataFrame to different formats\n",
        "sales_df.to_csv('output.csv', index=False)\n",
        "students_df.to_excel('output.xlsx', index=False)\n",
        "json_df.to_json('output.json')"
      ]
    },
    {
      "cell_type": "markdown",
      "id": "fe8c3ce0",
      "metadata": {
        "id": "fe8c3ce0"
      },
      "source": [
        "### Practice Questions\n",
        "1. Export any given DataFrame to CSV format without index.\n",
        "2. Export the same DataFrame to Excel with the name 'Sheet1'.\n",
        "3. Export to JSON format with indentation."
      ]
    },
    {
      "cell_type": "code",
      "execution_count": 15,
      "id": "d47e324e",
      "metadata": {
        "id": "d47e324e"
      },
      "outputs": [],
      "source": [
        "\n",
        "sales_df.to_csv('exported_sales.csv', index=False)\n",
        "\n",
        "sales_df.to_excel('exported_sales.xlsx', sheet_name='Sheet1', index=False)\n",
        "\n",
        "sales_df.to_json('exported_sales.json', indent=4)"
      ]
    },
    {
      "cell_type": "markdown",
      "id": "f1d3b073",
      "metadata": {
        "id": "f1d3b073"
      },
      "source": [
        "## 3. Creating Series and DataFrames"
      ]
    },
    {
      "cell_type": "code",
      "execution_count": null,
      "id": "b3fd56bb",
      "metadata": {
        "id": "b3fd56bb"
      },
      "outputs": [],
      "source": [
        "# Example: Creating Series and DataFrame\n",
        "series = pd.Series([10, 20, 30], name='Sales')\n",
        "data = {'Name': ['Amit', 'Riya', 'John'], 'Age': [22, 24, 26]}\n",
        "df = pd.DataFrame(data)\n",
        "print(series)\n",
        "print(df)"
      ]
    },
    {
      "cell_type": "markdown",
      "id": "0cea8700",
      "metadata": {
        "id": "0cea8700"
      },
      "source": [
        "### Practice Questions\n",
        "1. Create a Series of 5 numbers named 'Marks'.\n",
        "2. Create a DataFrame of 3 students with columns 'Name', 'Score', 'City'.\n",
        "3. Print shape, head, and describe of your DataFrame."
      ]
    },
    {
      "cell_type": "code",
      "execution_count": 19,
      "id": "d632d104",
      "metadata": {
        "id": "d632d104",
        "colab": {
          "base_uri": "https://localhost:8080/"
        },
        "outputId": "1d1e9c4c-1980-4a6e-b444-bfa23caef49f"
      },
      "outputs": [
        {
          "output_type": "stream",
          "name": "stdout",
          "text": [
            "0    80\n",
            "1    90\n",
            "2    75\n",
            "3    95\n",
            "4    85\n",
            "Name: Marks, dtype: int64\n"
          ]
        }
      ],
      "source": [
        "# 1\n",
        "series = pd.Series([80, 90, 75, 95, 85], name='Marks')\n",
        "print(series)"
      ]
    },
    {
      "cell_type": "code",
      "source": [
        "# 2\n",
        "data = {\n",
        "    'Name': ['Hanish','Kunal','Nikhil'],\n",
        "    'Score': [80, 90, 95],\n",
        "    'City' : ['Mumbai', 'Noida','Noida'],\n",
        "    'Age': [25, 21, 23]\n",
        "}\n",
        "student_data = pd.DataFrame(data, index = [1,2,3])\n",
        "print(student_data)"
      ],
      "metadata": {
        "colab": {
          "base_uri": "https://localhost:8080/"
        },
        "id": "fzcFMQ7Zb7Mh",
        "outputId": "23fc502d-8b60-4a48-b3f4-c9ec67314d1f"
      },
      "id": "fzcFMQ7Zb7Mh",
      "execution_count": 33,
      "outputs": [
        {
          "output_type": "stream",
          "name": "stdout",
          "text": [
            "     Name  Score    City  Age\n",
            "1  Hanish     80  Mumbai   25\n",
            "2   Kunal     90   Noida   21\n",
            "3  Nikhil     95   Noida   23\n"
          ]
        }
      ]
    },
    {
      "cell_type": "code",
      "source": [
        "# 3\n",
        "print( 'Shape', student_data.shape)\n",
        "print()\n",
        "print('Head',student_data.head())\n",
        "print()\n",
        "print('Description',student_data.describe())"
      ],
      "metadata": {
        "colab": {
          "base_uri": "https://localhost:8080/"
        },
        "id": "prCZAfXvhsaG",
        "outputId": "77d7bef2-c94e-454b-9535-ab3697abeb33"
      },
      "id": "prCZAfXvhsaG",
      "execution_count": 34,
      "outputs": [
        {
          "output_type": "stream",
          "name": "stdout",
          "text": [
            "Shape (3, 4)\n",
            "\n",
            "Head      Name  Score    City  Age\n",
            "1  Hanish     80  Mumbai   25\n",
            "2   Kunal     90   Noida   21\n",
            "3  Nikhil     95   Noida   23\n",
            "\n",
            "Description            Score   Age\n",
            "count   3.000000   3.0\n",
            "mean   88.333333  23.0\n",
            "std     7.637626   2.0\n",
            "min    80.000000  21.0\n",
            "25%    85.000000  22.0\n",
            "50%    90.000000  23.0\n",
            "75%    92.500000  24.0\n",
            "max    95.000000  25.0\n"
          ]
        }
      ]
    },
    {
      "cell_type": "markdown",
      "id": "8f361dcd",
      "metadata": {
        "id": "8f361dcd"
      },
      "source": [
        "## 4. Indexing and Slicing in Pandas"
      ]
    },
    {
      "cell_type": "code",
      "execution_count": 35,
      "id": "92a3a837",
      "metadata": {
        "id": "92a3a837",
        "colab": {
          "base_uri": "https://localhost:8080/",
          "height": 211
        },
        "outputId": "29e4d202-1ae1-4ee0-d4b0-71fb2e6dc08c"
      },
      "outputs": [
        {
          "output_type": "error",
          "ename": "NameError",
          "evalue": "name 'df' is not defined",
          "traceback": [
            "\u001b[0;31m---------------------------------------------------------------------------\u001b[0m",
            "\u001b[0;31mNameError\u001b[0m                                 Traceback (most recent call last)",
            "\u001b[0;32m/tmp/ipython-input-2031922684.py\u001b[0m in \u001b[0;36m<cell line: 0>\u001b[0;34m()\u001b[0m\n\u001b[1;32m      1\u001b[0m \u001b[0;31m# Example: Indexing and Slicing\u001b[0m\u001b[0;34m\u001b[0m\u001b[0;34m\u001b[0m\u001b[0m\n\u001b[0;32m----> 2\u001b[0;31m \u001b[0mdf\u001b[0m\u001b[0;34m[\u001b[0m\u001b[0;34m'Name'\u001b[0m\u001b[0;34m]\u001b[0m\u001b[0;34m\u001b[0m\u001b[0;34m\u001b[0m\u001b[0m\n\u001b[0m\u001b[1;32m      3\u001b[0m \u001b[0mdf\u001b[0m\u001b[0;34m[\u001b[0m\u001b[0;34m[\u001b[0m\u001b[0;34m'Name'\u001b[0m\u001b[0;34m,\u001b[0m \u001b[0;34m'Age'\u001b[0m\u001b[0;34m]\u001b[0m\u001b[0;34m]\u001b[0m\u001b[0;34m\u001b[0m\u001b[0;34m\u001b[0m\u001b[0m\n\u001b[1;32m      4\u001b[0m \u001b[0mdf\u001b[0m\u001b[0;34m.\u001b[0m\u001b[0miloc\u001b[0m\u001b[0;34m[\u001b[0m\u001b[0;36m0\u001b[0m\u001b[0;34m:\u001b[0m\u001b[0;36m2\u001b[0m\u001b[0;34m]\u001b[0m\u001b[0;34m\u001b[0m\u001b[0;34m\u001b[0m\u001b[0m\n\u001b[1;32m      5\u001b[0m \u001b[0mdf\u001b[0m\u001b[0;34m.\u001b[0m\u001b[0mloc\u001b[0m\u001b[0;34m[\u001b[0m\u001b[0mdf\u001b[0m\u001b[0;34m[\u001b[0m\u001b[0;34m'Age'\u001b[0m\u001b[0;34m]\u001b[0m \u001b[0;34m>\u001b[0m \u001b[0;36m22\u001b[0m\u001b[0;34m]\u001b[0m\u001b[0;34m\u001b[0m\u001b[0;34m\u001b[0m\u001b[0m\n",
            "\u001b[0;31mNameError\u001b[0m: name 'df' is not defined"
          ]
        }
      ],
      "source": [
        "# Example: Indexing and Slicing\n",
        "df['Name']\n",
        "df[['Name', 'Age']]\n",
        "df.iloc[0:2]\n",
        "df.loc[df['Age'] > 22]"
      ]
    },
    {
      "cell_type": "markdown",
      "id": "becaca7d",
      "metadata": {
        "id": "becaca7d"
      },
      "source": [
        "### Practice Questions\n",
        "1. Select only the 'Score' column from your DataFrame.\n",
        "2. Retrieve rows from index 1 to 3.\n",
        "3. Filter rows where 'Age' > 23."
      ]
    },
    {
      "cell_type": "code",
      "execution_count": 37,
      "id": "71a08a4c",
      "metadata": {
        "id": "71a08a4c",
        "colab": {
          "base_uri": "https://localhost:8080/"
        },
        "outputId": "14cf5b6c-3e08-4bb0-9d12-3b62bf920fa0"
      },
      "outputs": [
        {
          "output_type": "stream",
          "name": "stdout",
          "text": [
            "1    80\n",
            "2    90\n",
            "3    95\n",
            "Name: Score, dtype: int64\n",
            "     Name  Score    City  Age\n",
            "1  Hanish     80  Mumbai   25\n",
            "2   Kunal     90   Noida   21\n",
            "3  Nikhil     95   Noida   23\n",
            "     Name  Score    City  Age\n",
            "1  Hanish     80  Mumbai   25\n"
          ]
        }
      ],
      "source": [
        "\n",
        "# 1.\n",
        "print(student_data['Score'])\n",
        "# 2.\n",
        "print(student_data.loc[1:3])\n",
        "# 3.\n",
        "print(student_data[student_data['Age'] > 23])"
      ]
    },
    {
      "cell_type": "markdown",
      "id": "ed78de56",
      "metadata": {
        "id": "ed78de56"
      },
      "source": [
        "## 5. Merging and Concatenation"
      ]
    },
    {
      "cell_type": "code",
      "execution_count": null,
      "id": "7b819932",
      "metadata": {
        "id": "7b819932"
      },
      "outputs": [],
      "source": [
        "# Example: Merge and Concat\n",
        "df1 = pd.DataFrame({'ID': [1,2], 'Name': ['A', 'B']})\n",
        "df2 = pd.DataFrame({'ID': [1,2], 'Score': [85, 90]})\n",
        "merged = pd.merge(df1, df2, on='ID')\n",
        "print(merged)\n",
        "\n",
        "# Concat\n",
        "df3 = pd.concat([df1, df2], axis=0, ignore_index=True)"
      ]
    },
    {
      "cell_type": "markdown",
      "id": "42c8ef2d",
      "metadata": {
        "id": "42c8ef2d"
      },
      "source": [
        "### Practice Questions\n",
        "1. Merge two DataFrames 'students' and 'marks' on 'ID'.\n",
        "2. Perform left join between two given DataFrames.\n",
        "3. Concatenate two DataFrames vertically and reset the index."
      ]
    },
    {
      "cell_type": "code",
      "execution_count": null,
      "id": "2f6726a4",
      "metadata": {
        "id": "2f6726a4"
      },
      "outputs": [],
      "source": [
        "# Answer here\n"
      ]
    },
    {
      "cell_type": "markdown",
      "id": "727cdac8",
      "metadata": {
        "id": "727cdac8"
      },
      "source": [
        "## 6. Pivot Tables and GroupBy"
      ]
    },
    {
      "cell_type": "code",
      "execution_count": null,
      "id": "4397e068",
      "metadata": {
        "id": "4397e068"
      },
      "outputs": [],
      "source": [
        "# Example: Pivot and GroupBy\n",
        "df = pd.DataFrame({'Region': ['North', 'South', 'North'], 'Month': ['Jan', 'Jan', 'Feb'], 'Sales': [250, 300, 400]})\n",
        "\n",
        "pivot = df.pivot_table(values='Sales', index='Region', columns='Month', aggfunc='sum', fill_value=0)\n",
        "grouped = df.groupby('Region')['Sales'].sum()\n",
        "print(pivot)\n",
        "print(grouped)"
      ]
    },
    {
      "cell_type": "markdown",
      "id": "30b1a564",
      "metadata": {
        "id": "30b1a564"
      },
      "source": [
        "### Practice Questions\n",
        "1. Group the DataFrame by 'Month' and find total sales.\n",
        "2. Create a pivot table to show Region-wise total sales.\n",
        "3. Group data by 'Region' and count number of entries."
      ]
    },
    {
      "cell_type": "code",
      "execution_count": null,
      "id": "c1aff9c7",
      "metadata": {
        "id": "c1aff9c7"
      },
      "outputs": [],
      "source": [
        "# Answer here\n"
      ]
    },
    {
      "cell_type": "markdown",
      "id": "9fe2add6",
      "metadata": {
        "id": "9fe2add6"
      },
      "source": [
        "## Optional Practice (Medium Level)\n",
        "These questions test your overall understanding of Pandas."
      ]
    },
    {
      "cell_type": "markdown",
      "id": "b68b2455",
      "metadata": {
        "id": "b68b2455"
      },
      "source": [
        "1. Import a dataset and clean all missing values, rename columns properly, and export it back to Excel.\n",
        "\n",
        "Dataset- https://drive.google.com/file/d/1kw_Sdib3WCo_acQYA851poCUdKcWgfYs/view?usp=sharing"
      ]
    },
    {
      "cell_type": "code",
      "execution_count": null,
      "id": "54ffdb1e",
      "metadata": {
        "id": "54ffdb1e"
      },
      "outputs": [],
      "source": [
        "# Answer here\n",
        "# Answer here\n",
        "\n",
        "df_cleaned = df.dropna().rename(columns={'Product': 'Item', 'Sales': 'Rev'})\n",
        "print(\"\\nCleaned DataFrame:\\n\", df_cleaned)"
      ]
    },
    {
      "cell_type": "markdown",
      "id": "64cef174",
      "metadata": {
        "id": "64cef174"
      },
      "source": [
        "2. Combine multiple CSV files from a folder into one DataFrame and find top 5 entries by a numeric column like 'Sales'.\n",
        "\n",
        "Dataset- https://drive.google.com/drive/folders/1zgJs_6r8Aa_-93YXmYXfxOK5L4hVUI9Q?usp=sharing"
      ]
    },
    {
      "cell_type": "code",
      "execution_count": null,
      "id": "134e1bba",
      "metadata": {
        "id": "134e1bba"
      },
      "outputs": [],
      "source": [
        "\n",
        "combined = pd.concat([df1, df2], axis=0)\n",
        "\n",
        "df[score]"
      ]
    },
    {
      "cell_type": "code",
      "source": [],
      "metadata": {
        "id": "6JHphhybyiVJ"
      },
      "id": "6JHphhybyiVJ",
      "execution_count": null,
      "outputs": []
    }
  ],
  "metadata": {
    "language_info": {
      "name": "python"
    },
    "colab": {
      "provenance": [],
      "include_colab_link": true
    },
    "kernelspec": {
      "name": "python3",
      "display_name": "Python 3"
    }
  },
  "nbformat": 4,
  "nbformat_minor": 5
}